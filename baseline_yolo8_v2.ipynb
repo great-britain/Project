{
 "cells": [
  {
   "cell_type": "code",
   "execution_count": 151,
   "id": "j44NHL6YTZew",
   "metadata": {
    "colab": {
     "base_uri": "https://localhost:8080/"
    },
    "id": "j44NHL6YTZew",
    "outputId": "5ccf194a-62bb-45b7-aef7-25ff105d7188",
    "pycharm": {
     "name": "#%%\n"
    },
    "scrolled": true
   },
   "outputs": [],
   "source": [
    "# Установка\n",
    "# pip3 install torch torchvision torchaudio --index-url https://download.pytorch.org/whl/cu118\n",
    "# pip install ultralytics\n",
    "# !pip install shapely\n",
    "# !pip install roboflow"
   ]
  },
  {
   "cell_type": "code",
   "execution_count": 152,
   "id": "1cbe9f00",
   "metadata": {
    "pycharm": {
     "name": "#%%\n"
    },
    "scrolled": true
   },
   "outputs": [],
   "source": [
    "from ultralytics import YOLO\n",
    "import cv2\n",
    "\n",
    "import pandas as pd\n",
    "import numpy as np\n",
    "\n",
    "from tqdm.notebook import tqdm, trange\n",
    "import IPython\n",
    "from IPython.display import Video, display\n",
    "\n",
    "import matplotlib.pyplot as plt\n",
    "import seaborn as sns\n",
    "%matplotlib inline"
   ]
  },
  {
   "cell_type": "code",
   "execution_count": 50,
   "id": "756d87ae",
   "metadata": {
    "pycharm": {
     "name": "#%%\n"
    }
   },
   "outputs": [],
   "source": [
    "import os\n",
    "import glob\n",
    "import re\n",
    "from PIL import Image\n",
    "from shapely.geometry import box, Polygon"
   ]
  },
  {
   "cell_type": "code",
   "execution_count": 22,
   "id": "58ba4f29",
   "metadata": {
    "pycharm": {
     "name": "#%%\n"
    }
   },
   "outputs": [
    {
     "data": {
      "text/plain": [
       "'cuda'"
      ]
     },
     "execution_count": 22,
     "metadata": {},
     "output_type": "execute_result"
    }
   ],
   "source": [
    "# device = 'cpu'\n",
    "device = 'cuda'\n",
    "device"
   ]
  },
  {
   "cell_type": "code",
   "execution_count": 399,
   "id": "90968a86",
   "metadata": {
    "pycharm": {
     "name": "#%%\n"
    }
   },
   "outputs": [],
   "source": [
    "# Load the model\n",
    "model = YOLO('yolov8x.pt')\n",
    "model_seg = YOLO(\"yolov8x-seg.pt\")\n",
    "# best_model = YOLO('best.pt')\n",
    "# best_v2_fold_3 = YOLO('best_v2_fold_3.pt')\n",
    "best_v3 = YOLO('best_v3.pt')"
   ]
  },
  {
   "cell_type": "code",
   "execution_count": 416,
   "id": "b3324807",
   "metadata": {
    "scrolled": true
   },
   "outputs": [
    {
     "data": {
      "application/vnd.jupyter.widget-view+json": {
       "model_id": "8cbbdeb4554849959ca85b97479b1dd0",
       "version_major": 2,
       "version_minor": 0
      },
      "text/plain": [
       "  0%|          | 0/12 [00:00<?, ?it/s]"
      ]
     },
     "metadata": {},
     "output_type": "display_data"
    },
    {
     "data": {
      "application/vnd.jupyter.widget-view+json": {
       "model_id": "a3b23a5e5b3f4db3a078b0b637841cfc",
       "version_major": 2,
       "version_minor": 0
      },
      "text/plain": [
       "  0%|          | 0/99 [00:00<?, ?it/s]"
      ]
     },
     "metadata": {},
     "output_type": "display_data"
    },
    {
     "data": {
      "application/vnd.jupyter.widget-view+json": {
       "model_id": "57c8dd814d6b41a5a161a73fd0a25dc3",
       "version_major": 2,
       "version_minor": 0
      },
      "text/plain": [
       "  0%|          | 0/172 [00:00<?, ?it/s]"
      ]
     },
     "metadata": {},
     "output_type": "display_data"
    },
    {
     "data": {
      "application/vnd.jupyter.widget-view+json": {
       "model_id": "97e03601cae04b47a49aab4010301355",
       "version_major": 2,
       "version_minor": 0
      },
      "text/plain": [
       "  0%|          | 0/45 [00:00<?, ?it/s]"
      ]
     },
     "metadata": {},
     "output_type": "display_data"
    },
    {
     "data": {
      "application/vnd.jupyter.widget-view+json": {
       "model_id": "2b835e374829421ba7e90903ff36485e",
       "version_major": 2,
       "version_minor": 0
      },
      "text/plain": [
       "  0%|          | 0/127 [00:00<?, ?it/s]"
      ]
     },
     "metadata": {},
     "output_type": "display_data"
    },
    {
     "data": {
      "application/vnd.jupyter.widget-view+json": {
       "model_id": "3a648529b20946cf907603fc2849f52a",
       "version_major": 2,
       "version_minor": 0
      },
      "text/plain": [
       "  0%|          | 0/81 [00:00<?, ?it/s]"
      ]
     },
     "metadata": {},
     "output_type": "display_data"
    },
    {
     "data": {
      "application/vnd.jupyter.widget-view+json": {
       "model_id": "229b79edb6f44bb7a9d4fb522546dbef",
       "version_major": 2,
       "version_minor": 0
      },
      "text/plain": [
       "  0%|          | 0/151 [00:00<?, ?it/s]"
      ]
     },
     "metadata": {},
     "output_type": "display_data"
    },
    {
     "data": {
      "application/vnd.jupyter.widget-view+json": {
       "model_id": "1ff93554d8044e00a20c67866486342d",
       "version_major": 2,
       "version_minor": 0
      },
      "text/plain": [
       "  0%|          | 0/94 [00:00<?, ?it/s]"
      ]
     },
     "metadata": {},
     "output_type": "display_data"
    },
    {
     "data": {
      "application/vnd.jupyter.widget-view+json": {
       "model_id": "926df86df9ff471e99ad14f52e5e86a2",
       "version_major": 2,
       "version_minor": 0
      },
      "text/plain": [
       "  0%|          | 0/28 [00:00<?, ?it/s]"
      ]
     },
     "metadata": {},
     "output_type": "display_data"
    },
    {
     "data": {
      "application/vnd.jupyter.widget-view+json": {
       "model_id": "658bfe8327c244e983f4df5504a224f9",
       "version_major": 2,
       "version_minor": 0
      },
      "text/plain": [
       "  0%|          | 0/36 [00:00<?, ?it/s]"
      ]
     },
     "metadata": {},
     "output_type": "display_data"
    },
    {
     "data": {
      "application/vnd.jupyter.widget-view+json": {
       "model_id": "06b217524f284cd7adcbd68a59f5c124",
       "version_major": 2,
       "version_minor": 0
      },
      "text/plain": [
       "  0%|          | 0/98 [00:00<?, ?it/s]"
      ]
     },
     "metadata": {},
     "output_type": "display_data"
    },
    {
     "data": {
      "application/vnd.jupyter.widget-view+json": {
       "model_id": "39215ea7694d4f9ab9407d858937c5a7",
       "version_major": 2,
       "version_minor": 0
      },
      "text/plain": [
       "  0%|          | 0/99 [00:00<?, ?it/s]"
      ]
     },
     "metadata": {},
     "output_type": "display_data"
    },
    {
     "data": {
      "application/vnd.jupyter.widget-view+json": {
       "model_id": "7a42bc06aeae48ad96c03b0cf19532e1",
       "version_major": 2,
       "version_minor": 0
      },
      "text/plain": [
       "  0%|          | 0/89 [00:00<?, ?it/s]"
      ]
     },
     "metadata": {},
     "output_type": "display_data"
    }
   ],
   "source": [
    "class ModelDetected:\n",
    "    \"\"\"Класс детекции нахождения персонала в опасных зонах\"\"\"\n",
    "    def __init__(self,\n",
    "                 model:YOLO,\n",
    "                 conf_level:float=0.3,  \n",
    "                 verbose:bool = False, \n",
    "                 device:str = 'cpu'                 \n",
    "                ):\n",
    "        self.scale_percent = 50\n",
    "        self.conf_level = conf_level\n",
    "        self.iou = 0.5\n",
    "        self.verbose = verbose\n",
    "        self.device = device\n",
    "        self.input_dir = None\n",
    "        self.classes = [0] # 0: 'person'\n",
    "        # Загружаем модель \n",
    "        self.model = model\n",
    "        # Словарь опасных зон, с указанием координат\n",
    "        self.danger_zones = {}\n",
    "        # Словарь фотографий, с указанием зон\n",
    "        self.photos_by_zone = {}\n",
    "        self.data_columns = ['file_name', 'zone', 'count_persons', 'person', 'warning', 'seg_warning', 'helmet']\n",
    "        self.result_df = pd.DataFrame(columns=self.data_columns)\n",
    "        \n",
    "    def load_danger_zones(self, path_zones:str):\n",
    "        \"\"\"Загружаем координаты опасных зон\n",
    "            Заполняется словарь self.danger_zones - Словарь опасных зон, с указанием координат\n",
    "        :param path_zones - путь к списку координат зон в формате *.txt \n",
    "        \"\"\"\n",
    "        files_danger_zones = glob.glob(path_zones + \"/*.txt\")\n",
    "        for fname in files_danger_zones:\n",
    "            zone_name = fname.strip().split('\\\\')[-1].split('/')[-1].split('.')[0]\n",
    "            # Для одной камеры может быть несколько опасных зон\n",
    "            zone_name = re.sub('_zone\\d+', '', zone_name)\n",
    "            with open(fname, 'r') as f:\n",
    "                coords = f.read()\n",
    "            coords = [list(map(int, re.findall(r'\\d+', coord))) for coord in re.findall(r'\\[.+?\\]', coords)]\n",
    "            if zone_name not in self.danger_zones:\n",
    "                self.danger_zones[zone_name] = []\n",
    "            self.danger_zones[zone_name].append(np.array(coords,np.int32))\n",
    "    \n",
    "    def load_photos(self, path_cameras:str, file_types:tuple=('*.jpg', '*.jpeg', '*.png', '*.gif')):\n",
    "        \"\"\"Загружаем фотографии для детекции\n",
    "            Заполняется словарь self.photos_by_zone - Словарь фотографий, с указанием зон\n",
    "        :param path_cameras - путь к файлам. Директория должна содержать поддиректории опасных зон\n",
    "        \"\"\"\n",
    "        \n",
    "        pathes_zones = [ f.path for f in os.scandir(path_cameras) if f.is_dir()]\n",
    "        for dir_zone in pathes_zones:\n",
    "            zone_name = dir_zone.strip().split('\\\\')[-1].split('/')[-1].split('.')[0]\n",
    "            if zone_name not in self.photos_by_zone:\n",
    "                self.photos_by_zone[zone_name] = []\n",
    "            for filetype in file_types:\n",
    "                files_photos = glob.glob(dir_zone + f\"/{filetype}\")\n",
    "                self.photos_by_zone[zone_name].extend(files_photos)\n",
    "\n",
    "\n",
    "    # Расчет пересечения (Intersection), объединения (Union) и IoU\n",
    "    def intersectionOverUnion(self, pol1_xy, pol2_xy):\n",
    "        # Опредяем полигоны из набора точек\n",
    "        polygon1_shape = Polygon(pol1_xy)\n",
    "        polygon2_shape = Polygon(pol2_xy)\n",
    "\n",
    "        # Расчитываем пересечение (Intersection) и объединение (Union) и IOU, \n",
    "        # Необходимо для расчета процента нахождения человека в опасной зоне\n",
    "        polygon_intersection = polygon1_shape.intersection(polygon2_shape).area\n",
    "        polygon_union = polygon1_shape.union(polygon2_shape).area\n",
    "        IoU = polygon_intersection / polygon_union         \n",
    "        return polygon_intersection, polygon_union, IoU\n",
    "\n",
    "    def model_predict(self, img_files:list, zone_name:str, output_dir_zone:str):\n",
    "            self.alpha = 0.2\n",
    "            danger_zones = self.danger_zones[f\"danger_{zone_name}\"]\n",
    "            \n",
    "            for imgage_file in img_files:\n",
    "                file_name = imgage_file.strip().split('\\\\')[-1].split('/')[-1]\n",
    "                input_image = cv2.imread(imgage_file)\n",
    "                \n",
    "                result = self.model.predict(input_image, conf=self.conf_level, iou=self.iou, classes=self.classes, device = self.device, verbose = False)\n",
    "                \n",
    "                # Получаем боундбоксы и сегменты\n",
    "                boxes   = result[0].boxes.xyxy.cpu().numpy()\n",
    "                confs    = result[0].boxes.conf.cpu().numpy()\n",
    "                classes = result[0].boxes.cls.cpu().numpy()\n",
    "                \n",
    "                is_segments = result[0].masks is not None\n",
    "                if is_segments:\n",
    "                    segments = result[0].masks.xy\n",
    "                for danger_zone in danger_zones:\n",
    "                    danger_zones_pts = danger_zone.reshape((-1, 1, 2))\n",
    "                    # Рисуем опасную зону\n",
    "                    danger_zone_image = input_image.copy()\n",
    "                    cv2.polylines(danger_zone_image, pts = [danger_zones_pts], isClosed = True, color=(0, 168, 255), thickness=2)\n",
    "                    cv2.fillPoly(danger_zone_image, pts = [danger_zones_pts], color = (0, 168, 255))\n",
    "                    input_image = cv2.addWeighted(danger_zone_image, self.alpha, input_image , 1 - self.alpha, 0)\n",
    "                    cv2.polylines(input_image, pts = [danger_zones_pts], isClosed = True, color=(0, 168, 255), thickness=2)\n",
    "                \n",
    "                \n",
    "                image_stat = {'file_name':file_name, 'zone':zone_name, 'count_persons':0, 'person':0, 'warning':0, 'seg_warning':0, 'helmet':0}\n",
    "                 \n",
    "                \n",
    "                for idx in range(len(boxes)):\n",
    "                    box = boxes[idx].astype('int32')\n",
    "                    confidence = confs[idx]\n",
    "                    if is_segments:\n",
    "                        segment = segments[idx].astype('int32')\n",
    "                    detect_class = classes[idx]\n",
    "                    xmin, ymin, xmax, ymax = box.astype('int')\n",
    "\n",
    "                    person_polygon = np.array([[xmin, ymin], [xmin, ymax], [xmax, ymax], [xmax, ymin]])\n",
    "                    person_warning = 0\n",
    "                    segment_person_warning = 0\n",
    "                    for danger_zone in danger_zones:                    \n",
    "                        # Расчитываем пересечение (Intersection) и объединение (Union) и IOU, \n",
    "                        polygon_intersection, polygon_union, IoU = self.intersectionOverUnion(person_polygon, danger_zone)\n",
    "                        # Расчитываем процент нахождения человека в опасной зоне\n",
    "                        person_warning = max(person_warning, polygon_intersection / Polygon(person_polygon).area)\n",
    "                        if is_segments:\n",
    "                            # Расчитываем пересечение (Intersection) и объединение (Union) и IOU, \n",
    "                            segment_polygon_intersection, _, _ = self.intersectionOverUnion(segment, danger_zone)\n",
    "                            # Расчитываем процент нахождения человека в опасной зоне по сегменту\n",
    "                            segment_person_warning = max(segment_person_warning, segment_polygon_intersection / Polygon(segment).area)\n",
    "                            \n",
    "#                     print(f\"polygon_intersection: {polygon_intersection}\")\n",
    "#                     print(f\"polygon_union: {polygon_union}\")\n",
    "#                     print(f\"IoU: {IoU}\")\n",
    "#                     print(f\"person warning: {person_warning}\")\n",
    "#                     print(f\"person seg_warning: {segment_person_warning}\")\n",
    "                    \n",
    "                    helmet = 0\n",
    "                    \n",
    "                    category = classes[idx].astype('int')\n",
    "                    center_x, center_y = int(((xmax+xmin))/2), int((ymax+ ymin)/2)\n",
    "                    \n",
    "                    \n",
    "                    if person_warning > 0.15:\n",
    "                        text_color = (76, 0, 255)\n",
    "#                     elif person_warning >= 0.15:\n",
    "#                         text_color = (25, 211, 249)\n",
    "                    else:\n",
    "                        text_color = (166, 32, 27)\n",
    "                    \n",
    "                    # Рисуем boundbox\n",
    "                    cv2.rectangle(input_image, (xmin, ymin), (xmax, ymax), text_color, 2) # box\n",
    "                    cv2.putText(img=input_image, text=f'Person : {int(confidence*100)}%',\n",
    "                            org= (xmin,ymin-70), fontFace=cv2.FONT_HERSHEY_TRIPLEX, fontScale=0.8, color=text_color,thickness=1)\n",
    "                    cv2.putText(img=input_image, text=f'Warning: {int(person_warning*100)}%',\n",
    "                            org= (xmin,ymin-40), fontFace=cv2.FONT_HERSHEY_TRIPLEX, fontScale=0.8, color=text_color,thickness=1)\n",
    "                    cv2.putText(img=input_image, text=f'Segment W: {int(segment_person_warning*100)}%',\n",
    "                            org= (xmin,ymin-10), fontFace=cv2.FONT_HERSHEY_TRIPLEX, fontScale=0.8, color=text_color,thickness=1)\n",
    "                    \n",
    "                    \n",
    "                    if is_segments:\n",
    "                        # Рисуем сегментацию\n",
    "                        segment_image = input_image.copy()\n",
    "                        cv2.polylines(img=segment_image, pts=[segment], isClosed=True, color=(129,176, 30), thickness=2)\n",
    "                        cv2.fillPoly(segment_image, pts=[segment], color=(150, 190, 37))\n",
    "                        input_image = cv2.addWeighted(segment_image, self.alpha, input_image , 1 - self.alpha, 0)\n",
    "                        cv2.polylines(img=input_image, pts=[segment], isClosed=True, color=(129,176, 30), thickness=2)\n",
    "                    \n",
    "                    # Выводим итоговое изображение\n",
    "                    # plt.figure(figsize = (20,22))\n",
    "                    # plt.imshow(cv2.cvtColor(input_image, cv2.COLOR_BGR2RGB))\n",
    "                    # Сохрнаяем файл со статистикаой по изображению\n",
    "                    info_predict = [file_name, confidence, person_warning, helmet]\n",
    "                    \n",
    "                    \n",
    "                    image_stat['zone'] = zone_name\n",
    "                    image_stat['count_persons'] += 1\n",
    "                    image_stat['person'] = max(image_stat['person'], confidence)\n",
    "                    image_stat['warning'] = max(image_stat['warning'], person_warning)\n",
    "                    image_stat['seg_warning'] = max(image_stat['seg_warning'], segment_person_warning)\n",
    "                    image_stat['helmet'] = max(image_stat['helmet'], helmet)\n",
    "                    \n",
    "                # Сохрнаяем итоговое изображение\n",
    "                cv2.imwrite(output_dir_zone + \"/result_\" + file_name, input_image)\n",
    "                self.result_df.loc[len(self.result_df.index)] = image_stat\n",
    "                # self.result_df.loc[len(self.result_df.index)] = info_predict\n",
    "                    \n",
    "                with open(output_dir_zone + \"/result_\" + file_name.split(\".\")[0] + \".txt\", 'w') as txt_file:\n",
    "                    txt_stat = [str(image_stat[col_name]) for col_name in self.data_columns]\n",
    "                    txt_file.write(\"\\t\".join(txt_stat))\n",
    "\n",
    "\n",
    "    def model_predict_light(self, img_files:list, zone_name:str):\n",
    "            self.alpha = 0.2\n",
    "            danger_zones = self.danger_zones[f\"danger_{zone_name}\"]\n",
    "            \n",
    "            for imgage_file in img_files:\n",
    "                file_name = imgage_file.strip().split('\\\\')[-1].split('/')[-1]\n",
    "                input_image = cv2.imread(imgage_file)\n",
    "                \n",
    "                result = self.model.predict(input_image, conf=self.conf_level, iou=self.iou, classes=self.classes, device = self.device, verbose = False)\n",
    "                \n",
    "                # Получаем боундбоксы и сегменты\n",
    "                boxes   = result[0].boxes.xyxy.cpu().numpy()\n",
    "                confs    = result[0].boxes.conf.cpu().numpy()\n",
    "                classes = result[0].boxes.cls.cpu().numpy()\n",
    "                \n",
    "                image_stat = {'file_name':file_name, 'zone':zone_name, 'count_persons':0, 'person':0, 'warning':0, 'seg_warning':0, 'helmet':0}\n",
    "                 \n",
    "                \n",
    "                for idx in range(len(boxes)):\n",
    "                    box = boxes[idx].astype('int32')\n",
    "                    confidence = confs[idx]\n",
    "                    detect_class = classes[idx]\n",
    "                    xmin, ymin, xmax, ymax = box.astype('int')\n",
    "\n",
    "                    person_polygon = np.array([[xmin, ymin], [xmin, ymax], [xmax, ymax], [xmax, ymin]])\n",
    "                    person_warning = 0\n",
    "                    for danger_zone in danger_zones:                    \n",
    "                        # Расчитываем пересечение (Intersection) и объединение (Union) и IOU, \n",
    "                        polygon_intersection, polygon_union, IoU = self.intersectionOverUnion(person_polygon, danger_zone)\n",
    "                        # Расчитываем процент нахождения человека в опасной зоне\n",
    "                        person_warning = max(person_warning, polygon_intersection / Polygon(person_polygon).area)\n",
    "                            \n",
    "                    helmet = 0\n",
    "                    # Сохрнаяем файл со статистикаой по изображению\n",
    "                    info_predict = [file_name, confidence, person_warning, helmet]\n",
    "                    \n",
    "                    \n",
    "                    image_stat['zone'] = zone_name\n",
    "                    image_stat['count_persons'] += 1\n",
    "                    image_stat['person'] =  confidence\n",
    "                    image_stat['warning'] = person_warning\n",
    "                    image_stat['helmet'] = helmet\n",
    "                    \n",
    "                    self.result_df.loc[len(self.result_df.index)] = image_stat                    \n",
    "                    \n",
    "    def detected_by_dir(self, input_dir:str, file_types:str, output_dir:str, mode='train'):\n",
    "        self.load_photos(path_cameras=input_dir, file_types=file_types)\n",
    "        for zone in tqdm(self.photos_by_zone.keys()):\n",
    "            output_dir_zone = f\"{output_dir}/{zone}\"\n",
    "            # Создаем выходную директорию для зоны если её нет \n",
    "            os.makedirs(output_dir_zone, exist_ok=True)\n",
    "            for file_photo in tqdm(self.photos_by_zone[zone]):\n",
    "                if mode == 'test':\n",
    "                    self.model_predict_light(img_files=[file_photo], zone_name=zone)\n",
    "                else: \n",
    "                    self.model_predict(img_files=[file_photo], zone_name=zone, output_dir_zone=output_dir_zone)\n",
    "        return self.result_df   \n",
    "\n",
    "    def detected_by_file(self, input_file, zone_name, output_dir:str):\n",
    "        output_dir_zone = f\"{output_dir}/{zone_name}\"\n",
    "        # Создаем выходную директорию для зоны если её нет \n",
    "        os.makedirs(output_dir_zone, exist_ok=True)\n",
    "        self.model_predict(img_files=[input_file], zone_name=zone_name, output_dir_zone=output_dir_zone)\n",
    "        return self.result_df\n",
    "    \n",
    "\n",
    "if __name__ == '__main__':\n",
    "    # Пути\n",
    "    PATH = ''\n",
    "    # DATASET_PATH = PATH + 'mini_train_dataset_train/'\n",
    "#     DATASET_PATH = PATH + 'train_dataset_train/'    \n",
    "    DATASET_PATH = PATH + 'test_dataset_test/' \n",
    "    DANGER_ZONES_PATH = DATASET_PATH + 'danger_zones/'\n",
    "    CAMERAS_PATH = DATASET_PATH + 'cameras/'\n",
    "    OUTPUT_PATH = PATH + 'best_v2_fold_3_output/'\n",
    "\n",
    "    # detector = ModelDetected(model = model, device = device)\n",
    "#     detector = ModelDetected(model = model_seg, device = device)\n",
    "    # detector = ModelDetected(model = best_model, device = device)\n",
    "    detector = ModelDetected(model = best_v3, device = device, conf_level=0.1)\n",
    "    \n",
    "    \n",
    "    # Загрузка опасных зон\n",
    "    detector.load_danger_zones(path_zones = DANGER_ZONES_PATH)\n",
    "    \n",
    "    # Анализ фотографий из директорий\n",
    "    file_types = ('*.jpg', '*.jpeg', '*.png', '*.gif')\n",
    "    result_df = detector.detected_by_dir(input_dir=CAMERAS_PATH, file_types=file_types, output_dir = OUTPUT_PATH, mode='test')\n",
    "    \n",
    "    # Анализ одного файла с фотографией\n",
    "    \n",
    "    # test_zone = 'Php-Ctm-K-1-12-56'\n",
    "    # test_file = CAMERAS_PATH + f'{test_zone}/256zm1_22.jpg'\n",
    "    # test_file = CAMERAS_PATH + f'{test_zone}/imagen7.jpg'\n",
    "    # test_zone = 'Php-Angc-K3-8'\n",
    "    # test_file = CAMERAS_PATH + f'{test_zone}/Php-Angc-K3-8_angc4fr111.jpg'\n",
    "    # test_zone = 'Php-Angc-K3-1'\n",
    "    # test_file = CAMERAS_PATH + f'{test_zone}/Php-Angc-K3-1_angc4fr66.jpg'\n",
    "#     test_zone = 'Phl-com3-Shv2-9-K34'\n",
    "#     test_file = CAMERAS_PATH + f'{test_zone}/0db2137e-028b-4fee-a326-a55864f757c1.jpg'\n",
    "#     test_zone = 'Spp-210-K1-3-3-6'\n",
    "#     test_file = CAMERAS_PATH + f'{test_zone}/0bf8dff8-fe59-4d70-90bc-1f39150853f4.jpg'\n",
    "#     result_df = detector.detected_by_file(input_file=test_file, zone_name=test_zone, output_dir = OUTPUT_PATH)\n"
   ]
  },
  {
   "cell_type": "code",
   "execution_count": 410,
   "id": "35754b27",
   "metadata": {},
   "outputs": [
    {
     "data": {
      "text/plain": [
       "(1267, 7)"
      ]
     },
     "execution_count": 410,
     "metadata": {},
     "output_type": "execute_result"
    }
   ],
   "source": [
    "result_df.shape"
   ]
  },
  {
   "cell_type": "code",
   "execution_count": 417,
   "id": "d8559118",
   "metadata": {},
   "outputs": [
    {
     "data": {
      "text/plain": [
       "(1334, 7)"
      ]
     },
     "execution_count": 417,
     "metadata": {},
     "output_type": "execute_result"
    }
   ],
   "source": [
    "result_df.shape"
   ]
  },
  {
   "cell_type": "code",
   "execution_count": 418,
   "id": "e46cc599",
   "metadata": {},
   "outputs": [
    {
     "data": {
      "text/plain": [
       "count_persons\n",
       "1    1074\n",
       "2     202\n",
       "3      41\n",
       "4      14\n",
       "5       3\n",
       "Name: count, dtype: int64"
      ]
     },
     "execution_count": 418,
     "metadata": {},
     "output_type": "execute_result"
    }
   ],
   "source": [
    "result_df['count_persons'].value_counts()"
   ]
  },
  {
   "cell_type": "code",
   "execution_count": 419,
   "id": "2932b0dd",
   "metadata": {
    "scrolled": true
   },
   "outputs": [
    {
     "data": {
      "text/plain": [
       "(1334, 9)"
      ]
     },
     "execution_count": 419,
     "metadata": {},
     "output_type": "execute_result"
    }
   ],
   "source": [
    "result_df = result_df.rename(columns={'zone':'camera_name', 'file_name':'frame_filename'})\n",
    "result_df['in_danger_zone'] = np.where(result_df['warning'] >= 0.15, 'True', 'False')\n",
    "result_df['percent'] = result_df['warning'].round(2).astype('str')\n",
    "result_df.shape"
   ]
  },
  {
   "cell_type": "code",
   "execution_count": 420,
   "id": "1ef24f57",
   "metadata": {},
   "outputs": [
    {
     "data": {
      "text/html": [
       "<div>\n",
       "<style scoped>\n",
       "    .dataframe tbody tr th:only-of-type {\n",
       "        vertical-align: middle;\n",
       "    }\n",
       "\n",
       "    .dataframe tbody tr th {\n",
       "        vertical-align: top;\n",
       "    }\n",
       "\n",
       "    .dataframe thead th {\n",
       "        text-align: right;\n",
       "    }\n",
       "</style>\n",
       "<table border=\"1\" class=\"dataframe\">\n",
       "  <thead>\n",
       "    <tr style=\"text-align: right;\">\n",
       "      <th></th>\n",
       "      <th>frame_filename</th>\n",
       "      <th>camera_name</th>\n",
       "      <th>count_persons</th>\n",
       "      <th>person</th>\n",
       "      <th>warning</th>\n",
       "      <th>seg_warning</th>\n",
       "      <th>helmet</th>\n",
       "      <th>in_danger_zone</th>\n",
       "      <th>percent</th>\n",
       "    </tr>\n",
       "  </thead>\n",
       "  <tbody>\n",
       "    <tr>\n",
       "      <th>0</th>\n",
       "      <td>82e0422b-d5bd-4e8a-812b-56e6d8747ed6.jpg</td>\n",
       "      <td>DpR-Csp-uipv-ShV-V1</td>\n",
       "      <td>1</td>\n",
       "      <td>0.837279</td>\n",
       "      <td>0.618952</td>\n",
       "      <td>0</td>\n",
       "      <td>0</td>\n",
       "      <td>True</td>\n",
       "      <td>0.62</td>\n",
       "    </tr>\n",
       "    <tr>\n",
       "      <th>1</th>\n",
       "      <td>832471ab-783b-4689-abfe-044e2980574c.jpg</td>\n",
       "      <td>DpR-Csp-uipv-ShV-V1</td>\n",
       "      <td>1</td>\n",
       "      <td>0.118432</td>\n",
       "      <td>0.000000</td>\n",
       "      <td>0</td>\n",
       "      <td>0</td>\n",
       "      <td>False</td>\n",
       "      <td>0.0</td>\n",
       "    </tr>\n",
       "    <tr>\n",
       "      <th>2</th>\n",
       "      <td>8370b7d9-7c81-4ab3-a186-acf8ac0bc38d.jpg</td>\n",
       "      <td>DpR-Csp-uipv-ShV-V1</td>\n",
       "      <td>1</td>\n",
       "      <td>0.669407</td>\n",
       "      <td>0.843990</td>\n",
       "      <td>0</td>\n",
       "      <td>0</td>\n",
       "      <td>True</td>\n",
       "      <td>0.84</td>\n",
       "    </tr>\n",
       "    <tr>\n",
       "      <th>3</th>\n",
       "      <td>837c32b0-1a83-4c1c-8910-caf6564fea3b.jpg</td>\n",
       "      <td>DpR-Csp-uipv-ShV-V1</td>\n",
       "      <td>1</td>\n",
       "      <td>0.836395</td>\n",
       "      <td>0.981432</td>\n",
       "      <td>0</td>\n",
       "      <td>0</td>\n",
       "      <td>True</td>\n",
       "      <td>0.98</td>\n",
       "    </tr>\n",
       "    <tr>\n",
       "      <th>4</th>\n",
       "      <td>8398b455-a432-429b-a969-781bbd8d730b.jpg</td>\n",
       "      <td>DpR-Csp-uipv-ShV-V1</td>\n",
       "      <td>1</td>\n",
       "      <td>0.458502</td>\n",
       "      <td>0.000000</td>\n",
       "      <td>0</td>\n",
       "      <td>0</td>\n",
       "      <td>False</td>\n",
       "      <td>0.0</td>\n",
       "    </tr>\n",
       "    <tr>\n",
       "      <th>...</th>\n",
       "      <td>...</td>\n",
       "      <td>...</td>\n",
       "      <td>...</td>\n",
       "      <td>...</td>\n",
       "      <td>...</td>\n",
       "      <td>...</td>\n",
       "      <td>...</td>\n",
       "      <td>...</td>\n",
       "      <td>...</td>\n",
       "    </tr>\n",
       "    <tr>\n",
       "      <th>1329</th>\n",
       "      <td>Spp-K1-1-2-6_Karmany_2_prolet_2021-10-20_21-24...</td>\n",
       "      <td>Spp-K1-1-2-6</td>\n",
       "      <td>2</td>\n",
       "      <td>0.601286</td>\n",
       "      <td>0.000000</td>\n",
       "      <td>0</td>\n",
       "      <td>0</td>\n",
       "      <td>False</td>\n",
       "      <td>0.0</td>\n",
       "    </tr>\n",
       "    <tr>\n",
       "      <th>1330</th>\n",
       "      <td>Spp-K1-1-2-6_Karmany_2_prolet_2021-10-21_16-00...</td>\n",
       "      <td>Spp-K1-1-2-6</td>\n",
       "      <td>1</td>\n",
       "      <td>0.827959</td>\n",
       "      <td>0.000000</td>\n",
       "      <td>0</td>\n",
       "      <td>0</td>\n",
       "      <td>False</td>\n",
       "      <td>0.0</td>\n",
       "    </tr>\n",
       "    <tr>\n",
       "      <th>1331</th>\n",
       "      <td>Spp-K1-1-2-6_Karmany_2_prolet_2021-10-21_16-00...</td>\n",
       "      <td>Spp-K1-1-2-6</td>\n",
       "      <td>2</td>\n",
       "      <td>0.660297</td>\n",
       "      <td>0.415980</td>\n",
       "      <td>0</td>\n",
       "      <td>0</td>\n",
       "      <td>True</td>\n",
       "      <td>0.42</td>\n",
       "    </tr>\n",
       "    <tr>\n",
       "      <th>1332</th>\n",
       "      <td>Spp-K1-1-2-6_Karmany_2_prolet_2021-10-21_21-46...</td>\n",
       "      <td>Spp-K1-1-2-6</td>\n",
       "      <td>1</td>\n",
       "      <td>0.846631</td>\n",
       "      <td>0.388270</td>\n",
       "      <td>0</td>\n",
       "      <td>0</td>\n",
       "      <td>True</td>\n",
       "      <td>0.39</td>\n",
       "    </tr>\n",
       "    <tr>\n",
       "      <th>1333</th>\n",
       "      <td>Spp-K1-1-2-6_Karmany_2_prolet_2021-10-21_21-46...</td>\n",
       "      <td>Spp-K1-1-2-6</td>\n",
       "      <td>2</td>\n",
       "      <td>0.694713</td>\n",
       "      <td>0.321743</td>\n",
       "      <td>0</td>\n",
       "      <td>0</td>\n",
       "      <td>True</td>\n",
       "      <td>0.32</td>\n",
       "    </tr>\n",
       "  </tbody>\n",
       "</table>\n",
       "<p>1334 rows × 9 columns</p>\n",
       "</div>"
      ],
      "text/plain": [
       "                                         frame_filename          camera_name  \\\n",
       "0              82e0422b-d5bd-4e8a-812b-56e6d8747ed6.jpg  DpR-Csp-uipv-ShV-V1   \n",
       "1              832471ab-783b-4689-abfe-044e2980574c.jpg  DpR-Csp-uipv-ShV-V1   \n",
       "2              8370b7d9-7c81-4ab3-a186-acf8ac0bc38d.jpg  DpR-Csp-uipv-ShV-V1   \n",
       "3              837c32b0-1a83-4c1c-8910-caf6564fea3b.jpg  DpR-Csp-uipv-ShV-V1   \n",
       "4              8398b455-a432-429b-a969-781bbd8d730b.jpg  DpR-Csp-uipv-ShV-V1   \n",
       "...                                                 ...                  ...   \n",
       "1329  Spp-K1-1-2-6_Karmany_2_prolet_2021-10-20_21-24...         Spp-K1-1-2-6   \n",
       "1330  Spp-K1-1-2-6_Karmany_2_prolet_2021-10-21_16-00...         Spp-K1-1-2-6   \n",
       "1331  Spp-K1-1-2-6_Karmany_2_prolet_2021-10-21_16-00...         Spp-K1-1-2-6   \n",
       "1332  Spp-K1-1-2-6_Karmany_2_prolet_2021-10-21_21-46...         Spp-K1-1-2-6   \n",
       "1333  Spp-K1-1-2-6_Karmany_2_prolet_2021-10-21_21-46...         Spp-K1-1-2-6   \n",
       "\n",
       "      count_persons    person   warning  seg_warning  helmet in_danger_zone  \\\n",
       "0                 1  0.837279  0.618952            0       0           True   \n",
       "1                 1  0.118432  0.000000            0       0          False   \n",
       "2                 1  0.669407  0.843990            0       0           True   \n",
       "3                 1  0.836395  0.981432            0       0           True   \n",
       "4                 1  0.458502  0.000000            0       0          False   \n",
       "...             ...       ...       ...          ...     ...            ...   \n",
       "1329              2  0.601286  0.000000            0       0          False   \n",
       "1330              1  0.827959  0.000000            0       0          False   \n",
       "1331              2  0.660297  0.415980            0       0           True   \n",
       "1332              1  0.846631  0.388270            0       0           True   \n",
       "1333              2  0.694713  0.321743            0       0           True   \n",
       "\n",
       "     percent  \n",
       "0       0.62  \n",
       "1        0.0  \n",
       "2       0.84  \n",
       "3       0.98  \n",
       "4        0.0  \n",
       "...      ...  \n",
       "1329     0.0  \n",
       "1330     0.0  \n",
       "1331    0.42  \n",
       "1332    0.39  \n",
       "1333    0.32  \n",
       "\n",
       "[1334 rows x 9 columns]"
      ]
     },
     "execution_count": 420,
     "metadata": {},
     "output_type": "execute_result"
    }
   ],
   "source": [
    "result_df"
   ]
  },
  {
   "cell_type": "code",
   "execution_count": 394,
   "id": "45573ed9",
   "metadata": {},
   "outputs": [],
   "source": [
    "# result_df['count_persons'].sum() + len(result_df[result_df['count_persons'] == 0])\n",
    "import csv"
   ]
  },
  {
   "cell_type": "code",
   "execution_count": 421,
   "id": "9a0284d5",
   "metadata": {},
   "outputs": [],
   "source": [
    "result_df[[\"camera_name\",\"frame_filename\",\"in_danger_zone\",\"percent\"]].to_csv('submission_v8.csv', index=False, doublequote =True, quoting=csv.QUOTE_NONNUMERIC)"
   ]
  },
  {
   "cell_type": "code",
   "execution_count": null,
   "id": "a585d6b3",
   "metadata": {},
   "outputs": [],
   "source": []
  },
  {
   "cell_type": "code",
   "execution_count": null,
   "id": "fe543689",
   "metadata": {},
   "outputs": [],
   "source": []
  },
  {
   "cell_type": "code",
   "execution_count": null,
   "id": "cc5d0512",
   "metadata": {},
   "outputs": [],
   "source": []
  },
  {
   "cell_type": "code",
   "execution_count": null,
   "id": "79cb5994",
   "metadata": {},
   "outputs": [],
   "source": []
  },
  {
   "cell_type": "code",
   "execution_count": null,
   "id": "f1d20ed5",
   "metadata": {},
   "outputs": [],
   "source": []
  },
  {
   "cell_type": "code",
   "execution_count": null,
   "id": "b697518e",
   "metadata": {},
   "outputs": [],
   "source": []
  },
  {
   "cell_type": "code",
   "execution_count": null,
   "id": "11febdd2",
   "metadata": {},
   "outputs": [],
   "source": []
  },
  {
   "cell_type": "code",
   "execution_count": null,
   "id": "bbf7295d",
   "metadata": {},
   "outputs": [],
   "source": []
  },
  {
   "cell_type": "code",
   "execution_count": null,
   "id": "829dca90",
   "metadata": {},
   "outputs": [],
   "source": []
  },
  {
   "cell_type": "code",
   "execution_count": null,
   "id": "554b4b5c",
   "metadata": {},
   "outputs": [],
   "source": []
  },
  {
   "cell_type": "code",
   "execution_count": null,
   "id": "a1fbf2e0",
   "metadata": {},
   "outputs": [],
   "source": []
  },
  {
   "cell_type": "code",
   "execution_count": null,
   "id": "1c78ce3b",
   "metadata": {},
   "outputs": [],
   "source": []
  }
 ],
 "metadata": {
  "accelerator": "GPU",
  "colab": {
   "provenance": []
  },
  "kernelspec": {
   "display_name": "Python 3 (ipykernel)",
   "language": "python",
   "name": "python3"
  },
  "language_info": {
   "codemirror_mode": {
    "name": "ipython",
    "version": 3
   },
   "file_extension": ".py",
   "mimetype": "text/x-python",
   "name": "python",
   "nbconvert_exporter": "python",
   "pygments_lexer": "ipython3",
   "version": "3.10.13"
  },
  "toc": {
   "base_numbering": 1,
   "nav_menu": {},
   "number_sections": true,
   "sideBar": true,
   "skip_h1_title": false,
   "title_cell": "Table of Contents",
   "title_sidebar": "Contents",
   "toc_cell": true,
   "toc_position": {},
   "toc_section_display": true,
   "toc_window_display": false
  }
 },
 "nbformat": 4,
 "nbformat_minor": 5
}
